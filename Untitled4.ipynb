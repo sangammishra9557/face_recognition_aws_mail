{
 "cells": [
  {
   "cell_type": "code",
   "execution_count": 1,
   "id": "1930049b",
   "metadata": {},
   "outputs": [],
   "source": [
    "import cv2\n",
    "import time\n",
    "import numpy as np\n",
    "from os import listdir\n",
    "from os.path import isfile, join\n",
    "import boto3\n",
    "import os \n",
    "import subprocess\n",
    "import time"
   ]
  },
  {
   "cell_type": "code",
   "execution_count": 2,
   "id": "8b92c597",
   "metadata": {},
   "outputs": [
    {
     "name": "stdout",
     "output_type": "stream",
     "text": [
      "Enter Your Friend's Name: sangam mishra\n"
     ]
    }
   ],
   "source": [
    "name = input(\"Enter Your Friend's Name: \")"
   ]
  },
  {
   "cell_type": "code",
   "execution_count": 3,
   "id": "efb312c4",
   "metadata": {},
   "outputs": [
    {
     "name": "stdout",
     "output_type": "stream",
     "text": [
      "model trained succesfully\n"
     ]
    }
   ],
   "source": [
    "\n",
    "data_path = './drsahab/'\n",
    "onlyfiles = [f for f in listdir(data_path) if isfile(join(data_path, f))]\n",
    "# create arrays \n",
    "training_data, labels =[], []\n",
    "\n",
    "for i, files in enumerate (onlyfiles):\n",
    "    image_path = data_path+onlyfiles[i]\n",
    "    images = cv2.imread(image_path,cv2.IMREAD_GRAYSCALE)\n",
    "    training_data.append(np.asarray(images, dtype=np.uint8))\n",
    "    labels.append(i)\n",
    "labels = np.asarray(labels, dtype= np.int32)\n",
    "dr_model = cv2.face_LBPHFaceRecognizer.create()\n",
    "dr_model.train(np.asarray(training_data), np.asarray(labels))\n",
    "print(\"model trained succesfully\")"
   ]
  },
  {
   "cell_type": "code",
   "execution_count": null,
   "id": "94382c90",
   "metadata": {},
   "outputs": [],
   "source": []
  },
  {
   "cell_type": "code",
   "execution_count": 4,
   "id": "df939ffd",
   "metadata": {},
   "outputs": [],
   "source": [
    "def createInstance():\n",
    "    os.system('aws ec2 run-instances --image-id ami-0ba62214afa52bec7  --count 1 --instance-type t2.micro --key-name mykey.pem --security-group-ids sg-0b47f7425766098ae --subnet-id subnet-7ec80e03')\n",
    "    print(\"ec2-instance Created!\")\n",
    "\n",
    "def createVolume():\n",
    "    az = subprocess.getoutput('aws ec2 describe-instances --filters Name=instance-state-name,Values=running --query \"Reservations[].Instances[].Placement.AvailabilityZone\" --output text')\n",
    "    os.system('aws ec2 create-volume --availability-zone  {} --size 5'.format(az))\n",
    "    print(\"EBS of 5GiB Volume created!\")\n",
    "\n",
    "def attachVolume():\n",
    "    for i in range(3):\n",
    "        time.sleep(1)\n",
    "        print(\"Attaching...\")\n",
    "    instance_id = subprocess.getoutput('aws ec2 describe-instances --filters Name=instance-state-name,Values=running --query \"Reservations[].Instances[].InstanceId\" --output text')\n",
    "    volume_id = subprocess.getoutput('aws ec2 describe-volumes --filters Name=size,Values=5 --query \"Volumes[*].VolumeId\" --output text')\n",
    "    os.system('aws ec2 attach-volume --device /dev/xvdc --instance-id {} --volume-id {}'.format(instance_id, volume_id))\n",
    "    print(\"Volume attached to the Instance!\")"
   ]
  },
  {
   "cell_type": "code",
   "execution_count": 5,
   "id": "880f89fb",
   "metadata": {},
   "outputs": [
    {
     "name": "stderr",
     "output_type": "stream",
     "text": [
      "<>:13: SyntaxWarning: \"is\" with a literal. Did you mean \"==\"?\n",
      "<>:13: SyntaxWarning: \"is\" with a literal. Did you mean \"==\"?\n",
      "<ipython-input-5-29a5c497b30b>:13: SyntaxWarning: \"is\" with a literal. Did you mean \"==\"?\n",
      "  if faces is ():\n"
     ]
    },
    {
     "name": "stdout",
     "output_type": "stream",
     "text": [
      "Face Detected!\n",
      "-----------------------\n",
      "ec2-instance Created!\n",
      "#########################\n",
      "EBS of 5GiB Volume created!\n",
      "#########################\n",
      "Attaching...\n",
      "Attaching...\n",
      "Attaching...\n",
      "Volume attached to the Instance!\n",
      "#########################\n",
      "GREAT SUCCESS!!\n"
     ]
    }
   ],
   "source": [
    "import cv2\n",
    "import numpy as np\n",
    "import os\n",
    "\n",
    "\n",
    "face_classifier = cv2.CascadeClassifier('haarcascade_frontalface_default.xml')\n",
    "\n",
    "def face_detector(img, size=0.5):\n",
    "    \n",
    "    # Convert image to grayscale\n",
    "    gray = cv2.cvtColor(img,cv2.COLOR_BGR2GRAY)\n",
    "    faces = face_classifier.detectMultiScale(gray, 1.3, 5)\n",
    "    if faces is ():\n",
    "        return img, []\n",
    "    \n",
    "    \n",
    "    for (x,y,w,h) in faces:\n",
    "        cv2.rectangle(img,(x,y),(x+w,y+h),(0,255,255),2)\n",
    "        roi = img[y:y+h, x:x+w]\n",
    "        roi = cv2.resize(roi, (200, 200))\n",
    "    return img, roi\n",
    "\n",
    "\n",
    "# Open Webcam\n",
    "cap = cv2.VideoCapture(0)\n",
    "\n",
    "while True:\n",
    "\n",
    "    ret, frame = cap.read()\n",
    "    \n",
    "    image, face = face_detector(frame)\n",
    "    \n",
    "    try:\n",
    "        face = cv2.cvtColor(face, cv2.COLOR_BGR2GRAY)\n",
    "\n",
    "        # Pass face to prediction model\n",
    "        # \"results\" comprises of a tuple containing the label and the confidence value\n",
    "        results = dr_model.predict(face)\n",
    "        # harry_model.predict(face)\n",
    "        \n",
    "        if results[1] < 500:\n",
    "            confidence = int( 100 * (1 - (results[1])/400) )\n",
    "            display_string = str(confidence) + '% Confident it is User'\n",
    "            \n",
    "        cv2.putText(image, display_string, (100, 120), cv2.FONT_HERSHEY_COMPLEX, 1, (255,120,150), 2)\n",
    "        \n",
    "        if confidence > 70:\n",
    "            cv2.putText(image, \"Hello dr sahab\", (250, 450), cv2.FONT_HERSHEY_COMPLEX, 1, (0,255,0), 2)\n",
    "            cv2.imshow('Face Recognition', image )\n",
    "            # os.system(\"chrome https://www.google.com/search?q=vimal+daga\")\n",
    "            #os.system(\"wmplayer   c:\\lw.mp3\")\n",
    "            matchfound=True\n",
    "            \n",
    "         \n",
    "        else:\n",
    "            \n",
    "            cv2.putText(image, \"I dont know, how r u\", (250, 450), cv2.FONT_HERSHEY_COMPLEX, 1, (0,0,255), 2)\n",
    "            cv2.imshow('Face Recognition', image )\n",
    "\n",
    "    except:\n",
    "        cv2.putText(image, \"No Face Found\", (220, 120) , cv2.FONT_HERSHEY_COMPLEX, 1, (0,0,255), 2)\n",
    "        cv2.putText(image, \"looking for face\", (250, 450), cv2.FONT_HERSHEY_COMPLEX, 1, (0,0,255), 2)\n",
    "        cv2.imshow('Face Recognition', image )\n",
    "        pass\n",
    "        \n",
    "    if cv2.waitKey(1) == 13: #13 is the Enter Key\n",
    "        break\n",
    "        \n",
    "cap.release()\n",
    "cv2.destroyAllWindows()\n",
    "\n",
    "\n",
    "if matchfound == True:\n",
    "    print(\"Face Detected!\")\n",
    "    print(\"-----------------------\")\n",
    "    createInstance()\n",
    "    print(\"#########################\")\n",
    "    createVolume()\n",
    "    print(\"#########################\")\n",
    "    attachVolume()\n",
    "    print(\"#########################\")\n",
    "    print(\"GREAT SUCCESS!!\")\n",
    "    "
   ]
  },
  {
   "cell_type": "code",
   "execution_count": null,
   "id": "3dc9667e",
   "metadata": {},
   "outputs": [],
   "source": []
  }
 ],
 "metadata": {
  "kernelspec": {
   "display_name": "Python 3",
   "language": "python",
   "name": "python3"
  },
  "language_info": {
   "codemirror_mode": {
    "name": "ipython",
    "version": 3
   },
   "file_extension": ".py",
   "mimetype": "text/x-python",
   "name": "python",
   "nbconvert_exporter": "python",
   "pygments_lexer": "ipython3",
   "version": "3.8.8"
  }
 },
 "nbformat": 4,
 "nbformat_minor": 5
}
